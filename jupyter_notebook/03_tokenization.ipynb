{
 "cells": [
  {
   "cell_type": "code",
   "execution_count": 1,
   "id": "386c219f",
   "metadata": {
    "scrolled": true
   },
   "outputs": [
    {
     "name": "stdout",
     "output_type": "stream",
     "text": [
      "Requirement already satisfied: tokenizers in c:\\users\\administrator\\appdata\\roaming\\python\\python38\\site-packages (0.13.3)\n",
      "Requirement already satisfied: transformers in c:\\users\\administrator\\appdata\\roaming\\python\\python38\\site-packages (4.28.0)\n",
      "Requirement already satisfied: tqdm>=4.27 in e:\\miniconda3\\envs\\py38\\lib\\site-packages (from transformers) (4.65.0)\n",
      "Requirement already satisfied: regex!=2019.12.17 in e:\\miniconda3\\envs\\py38\\lib\\site-packages (from transformers) (2023.12.25)\n",
      "Requirement already satisfied: huggingface-hub<1.0,>=0.11.0 in e:\\miniconda3\\envs\\py38\\lib\\site-packages (from transformers) (0.20.2)\n",
      "Requirement already satisfied: tokenizers!=0.11.3,<0.14,>=0.11.1 in c:\\users\\administrator\\appdata\\roaming\\python\\python38\\site-packages (from transformers) (0.13.3)\n",
      "Requirement already satisfied: packaging>=20.0 in e:\\miniconda3\\envs\\py38\\lib\\site-packages (from transformers) (21.3)\n",
      "Requirement already satisfied: pyyaml>=5.1 in e:\\miniconda3\\envs\\py38\\lib\\site-packages (from transformers) (6.0)\n",
      "Requirement already satisfied: filelock in e:\\miniconda3\\envs\\py38\\lib\\site-packages (from transformers) (3.13.1)\n",
      "Requirement already satisfied: requests in e:\\miniconda3\\envs\\py38\\lib\\site-packages (from transformers) (2.25.1)\n",
      "Requirement already satisfied: numpy>=1.17 in e:\\miniconda3\\envs\\py38\\lib\\site-packages (from transformers) (1.18.5)\n",
      "Requirement already satisfied: typing-extensions>=3.7.4.3 in e:\\miniconda3\\envs\\py38\\lib\\site-packages (from huggingface-hub<1.0,>=0.11.0->transformers) (4.3.0)\n",
      "Requirement already satisfied: fsspec>=2023.5.0 in e:\\miniconda3\\envs\\py38\\lib\\site-packages (from huggingface-hub<1.0,>=0.11.0->transformers) (2023.10.0)\n",
      "Requirement already satisfied: pyparsing!=3.0.5,>=2.0.2 in e:\\miniconda3\\envs\\py38\\lib\\site-packages (from packaging>=20.0->transformers) (3.0.4)\n",
      "Requirement already satisfied: colorama in e:\\miniconda3\\envs\\py38\\lib\\site-packages (from tqdm>=4.27->transformers) (0.4.5)\n",
      "Requirement already satisfied: urllib3<1.27,>=1.21.1 in e:\\miniconda3\\envs\\py38\\lib\\site-packages (from requests->transformers) (1.26.10)\n",
      "Requirement already satisfied: chardet<5,>=3.0.2 in e:\\miniconda3\\envs\\py38\\lib\\site-packages (from requests->transformers) (4.0.0)\n",
      "Requirement already satisfied: certifi>=2017.4.17 in e:\\miniconda3\\envs\\py38\\lib\\site-packages (from requests->transformers) (2022.6.15)\n",
      "Requirement already satisfied: idna<3,>=2.5 in e:\\miniconda3\\envs\\py38\\lib\\site-packages (from requests->transformers) (2.10)\n"
     ]
    }
   ],
   "source": [
    "!pip install tokenizers\n",
    "!pip install transformers==4.28.0"
   ]
  },
  {
   "cell_type": "code",
   "execution_count": 2,
   "id": "36ffad33",
   "metadata": {},
   "outputs": [],
   "source": [
    "from tokenizers import ByteLevelBPETokenizer"
   ]
  },
  {
   "cell_type": "code",
   "execution_count": 3,
   "id": "ad89a999",
   "metadata": {},
   "outputs": [],
   "source": [
    "paths = ['sample_data.txt']\n",
    "\n",
    "# 初始化一个tokenizer\n",
    "tokenizer = ByteLevelBPETokenizer()\n",
    "\n",
    "# 自定义训练\n",
    "tokenizer.train(files=paths, vocab_size=52_000, min_frequency=2, special_tokens=[\n",
    "    \"<s>\",\n",
    "    \"<pad>\",\n",
    "    \"</s>\",\n",
    "    \"<unk>\",\n",
    "    \"<mask>\",\n",
    "])"
   ]
  },
  {
   "cell_type": "code",
   "execution_count": 4,
   "id": "06462542",
   "metadata": {},
   "outputs": [
    {
     "name": "stderr",
     "output_type": "stream",
     "text": [
      "子目录或文件 tokenizer 已经存在。\n"
     ]
    },
    {
     "data": {
      "text/plain": [
       "['tokenizer\\\\vocab.json', 'tokenizer\\\\merges.txt']"
      ]
     },
     "execution_count": 4,
     "metadata": {},
     "output_type": "execute_result"
    }
   ],
   "source": [
    "!mkdir tokenizer\n",
    "tokenizer.save_model(\"tokenizer\")"
   ]
  },
  {
   "cell_type": "code",
   "execution_count": 5,
   "id": "4f27baa9",
   "metadata": {},
   "outputs": [
    {
     "name": "stdout",
     "output_type": "stream",
     "text": [
      "[3049, 643, 4635, 11258, 5, 1693]\n",
      "['print', \"('\", 'Hello', 'Ġworld', '!', \"')\"]\n"
     ]
    }
   ],
   "source": [
    "inp = \"print('Hello world!')\"\n",
    "\n",
    "t_en = tokenizer.encode(inp)\n",
    "\n",
    "print(t_en.ids)\n",
    "print(t_en.tokens)"
   ]
  },
  {
   "cell_type": "code",
   "execution_count": 6,
   "id": "134e2682",
   "metadata": {},
   "outputs": [
    {
     "data": {
      "text/plain": [
       "\"print('Hello world!')\""
      ]
     },
     "execution_count": 6,
     "metadata": {},
     "output_type": "execute_result"
    }
   ],
   "source": [
    "tokenizer.decode(t_en.ids)"
   ]
  },
  {
   "cell_type": "code",
   "execution_count": 7,
   "id": "0845a55f",
   "metadata": {},
   "outputs": [],
   "source": [
    "from transformers import GPT2Tokenizer"
   ]
  },
  {
   "cell_type": "code",
   "execution_count": 8,
   "id": "6a58981c",
   "metadata": {},
   "outputs": [],
   "source": [
    "gpt2_tokenizer = GPT2Tokenizer.from_pretrained(\"tokenizer\")"
   ]
  },
  {
   "cell_type": "code",
   "execution_count": 9,
   "id": "417ab94e",
   "metadata": {},
   "outputs": [
    {
     "data": {
      "text/plain": [
       "0"
      ]
     },
     "execution_count": 9,
     "metadata": {},
     "output_type": "execute_result"
    }
   ],
   "source": [
    "gpt2_tokenizer.add_special_tokens({\n",
    "    \"bos_token\":\"<s>\",\n",
    "    \"pad_token\":\"<pad>\",\n",
    "    \"eos_token\":\"</s>\",\n",
    "    \"unk_token\":\"<unk>\",\n",
    "    \"mask_token\":\"<mask>\",    \n",
    "})"
   ]
  },
  {
   "cell_type": "code",
   "execution_count": 10,
   "id": "42d651aa",
   "metadata": {},
   "outputs": [
    {
     "data": {
      "text/plain": [
       "[3049, 643, 4635, 11258, 5, 1693]"
      ]
     },
     "execution_count": 10,
     "metadata": {},
     "output_type": "execute_result"
    }
   ],
   "source": [
    "gpt2_tokenizer.encode(inp)"
   ]
  },
  {
   "cell_type": "code",
   "execution_count": 11,
   "id": "8cb2b8c7",
   "metadata": {},
   "outputs": [
    {
     "data": {
      "text/plain": [
       "\"print('Hello world!')\""
      ]
     },
     "execution_count": 11,
     "metadata": {},
     "output_type": "execute_result"
    }
   ],
   "source": [
    "gpt2_tokenizer.decode(gpt2_tokenizer.encode(inp))"
   ]
  },
  {
   "cell_type": "code",
   "execution_count": null,
   "id": "797777b6",
   "metadata": {},
   "outputs": [],
   "source": []
  }
 ],
 "metadata": {
  "kernelspec": {
   "display_name": "Python 3 (ipykernel)",
   "language": "python",
   "name": "python3"
  },
  "language_info": {
   "codemirror_mode": {
    "name": "ipython",
    "version": 3
   },
   "file_extension": ".py",
   "mimetype": "text/x-python",
   "name": "python",
   "nbconvert_exporter": "python",
   "pygments_lexer": "ipython3",
   "version": "3.8.10"
  }
 },
 "nbformat": 4,
 "nbformat_minor": 5
}
