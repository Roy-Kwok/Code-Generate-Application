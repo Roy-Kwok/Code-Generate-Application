{
 "cells": [
  {
   "cell_type": "code",
   "execution_count": 1,
   "id": "cbb5d5ac",
   "metadata": {},
   "outputs": [],
   "source": [
    "import os"
   ]
  },
  {
   "cell_type": "code",
   "execution_count": 2,
   "id": "5de380dd",
   "metadata": {},
   "outputs": [
    {
     "name": "stdout",
     "output_type": "stream",
     "text": [
      "55335\n"
     ]
    }
   ],
   "source": [
    "full_dirs = []\n",
    "for dir_path, path_names, filenames in os.walk('./repos'):\n",
    "    for filename in filenames:\n",
    "        full_dir = os.path.join(dir_path, filename)\n",
    "        full_dirs.append(full_dir)\n",
    "\n",
    "print(len(full_dirs))"
   ]
  },
  {
   "cell_type": "code",
   "execution_count": 4,
   "id": "7c1b9a59",
   "metadata": {},
   "outputs": [
    {
     "name": "stdout",
     "output_type": "stream",
     "text": [
      "'utf-8' codec can't decode byte 0xc4 in position 2623: invalid continuation byte\n",
      "'utf-8' codec can't decode byte 0xcc in position 1422: invalid continuation byte\n"
     ]
    }
   ],
   "source": [
    "NEWLINECHAR = '<N>'\n",
    "MIN_STR_LEN = 256\n",
    "MAX_STR_LEN = 512\n",
    "\n",
    "count = 0\n",
    "with open('sample_data.txt', 'a', encoding=\"UTF-8\") as f:\n",
    "    for full_dir in full_dirs:\n",
    "        try:\n",
    "#             print(full_dir)\n",
    "            fd = open(full_dir, 'r', encoding=\"UTF-8\").read()\n",
    "            fd = fd.replace('\\n', NEWLINECHAR)\n",
    "\n",
    "            if 128 <= len(fd) <= MAX_STR_LEN:\n",
    "                f.write(fd + '\\n')\n",
    "            else:\n",
    "                substring = ''\n",
    "                fd_split = fd.split(f'{NEWLINECHAR}{NEWLINECHAR}')\n",
    "                for split in fd_split:\n",
    "                    substring += split + f'{NEWLINECHAR}{NEWLINECHAR}'\n",
    "                    if MIN_STR_LEN <= len(substring) <= MAX_STR_LEN:\n",
    "                        f.write(substring + '\\n')\n",
    "                        substring = ''\n",
    "    #         print(fd)\n",
    "    #         print(len(fd))\n",
    "\n",
    "        except Exception as e:\n",
    "            print(str(e))"
   ]
  },
  {
   "cell_type": "code",
   "execution_count": null,
   "id": "174a902d",
   "metadata": {},
   "outputs": [],
   "source": []
  }
 ],
 "metadata": {
  "kernelspec": {
   "display_name": "Python 3 (ipykernel)",
   "language": "python",
   "name": "python3"
  },
  "language_info": {
   "codemirror_mode": {
    "name": "ipython",
    "version": 3
   },
   "file_extension": ".py",
   "mimetype": "text/x-python",
   "name": "python",
   "nbconvert_exporter": "python",
   "pygments_lexer": "ipython3",
   "version": "3.8.10"
  }
 },
 "nbformat": 4,
 "nbformat_minor": 5
}
